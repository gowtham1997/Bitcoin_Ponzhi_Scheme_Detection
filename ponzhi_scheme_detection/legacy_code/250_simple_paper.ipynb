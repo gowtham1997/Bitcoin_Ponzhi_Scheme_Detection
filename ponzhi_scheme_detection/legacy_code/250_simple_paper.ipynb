{
 "cells": [
  {
   "cell_type": "code",
   "execution_count": null,
   "metadata": {},
   "outputs": [],
   "source": [
    "# pip3 install --upgrade networkx"
   ]
  },
  {
   "cell_type": "code",
   "execution_count": 1,
   "metadata": {},
   "outputs": [],
   "source": [
    "import networkx as nx\n",
    "import numpy as np\n",
    "import pandas as pd\n",
    "import matplotlib.pyplot as plt\n",
    "from pprint import pprint\n",
    "%matplotlib inline"
   ]
  },
  {
   "cell_type": "code",
   "execution_count": 2,
   "metadata": {},
   "outputs": [],
   "source": [
    "HUB_DEGREE = 250\n",
    "DATA_DIR = 'analysing_anonymity/'\n",
    "\n",
    "user_edges_file = DATA_DIR + 'user_edges_2011-07-13.txt'\n",
    "user_vertices_file = DATA_DIR + 'user_vertices_2011-07-13.txt'"
   ]
  },
  {
   "cell_type": "code",
   "execution_count": 3,
   "metadata": {},
   "outputs": [],
   "source": [
    "with open(user_vertices_file, 'r') as f:\n",
    "    vertices_and_addresses = f.read().splitlines()\n",
    "with open(user_edges_file, 'r') as f:\n",
    "    transactions = f.read().splitlines()\n",
    "vertex2keys = {(idx+1): len(addresses.split('\\t')) for idx, addresses in enumerate(vertices_and_addresses)}"
   ]
  },
  {
   "cell_type": "code",
   "execution_count": 4,
   "metadata": {},
   "outputs": [],
   "source": [
    "# transactions = transactions[:50000]"
   ]
  },
  {
   "cell_type": "code",
   "execution_count": 5,
   "metadata": {},
   "outputs": [
    {
     "data": {
      "text/html": [
       "<div>\n",
       "<style scoped>\n",
       "    .dataframe tbody tr th:only-of-type {\n",
       "        vertical-align: middle;\n",
       "    }\n",
       "\n",
       "    .dataframe tbody tr th {\n",
       "        vertical-align: top;\n",
       "    }\n",
       "\n",
       "    .dataframe thead th {\n",
       "        text-align: right;\n",
       "    }\n",
       "</style>\n",
       "<table border=\"1\" class=\"dataframe\">\n",
       "  <thead>\n",
       "    <tr style=\"text-align: right;\">\n",
       "      <th></th>\n",
       "      <th>sender</th>\n",
       "      <th>receiver</th>\n",
       "      <th>BTC</th>\n",
       "      <th>date</th>\n",
       "    </tr>\n",
       "  </thead>\n",
       "  <tbody>\n",
       "    <tr>\n",
       "      <th>0</th>\n",
       "      <td>1</td>\n",
       "      <td>5994</td>\n",
       "      <td>8.94</td>\n",
       "      <td>2011-07-04-09-05-56</td>\n",
       "    </tr>\n",
       "    <tr>\n",
       "      <th>1</th>\n",
       "      <td>905914</td>\n",
       "      <td>20572</td>\n",
       "      <td>0.01</td>\n",
       "      <td>2011-06-23-19-10-01</td>\n",
       "    </tr>\n",
       "    <tr>\n",
       "      <th>2</th>\n",
       "      <td>905914</td>\n",
       "      <td>622803</td>\n",
       "      <td>220.07592886</td>\n",
       "      <td>2011-06-23-19-10-01</td>\n",
       "    </tr>\n",
       "    <tr>\n",
       "      <th>3</th>\n",
       "      <td>823336</td>\n",
       "      <td>118969</td>\n",
       "      <td>2.12</td>\n",
       "      <td>2011-05-16-01-58-01</td>\n",
       "    </tr>\n",
       "    <tr>\n",
       "      <th>4</th>\n",
       "      <td>823336</td>\n",
       "      <td>330686</td>\n",
       "      <td>0.56210609</td>\n",
       "      <td>2011-05-16-01-58-01</td>\n",
       "    </tr>\n",
       "  </tbody>\n",
       "</table>\n",
       "</div>"
      ],
      "text/plain": [
       "   sender receiver           BTC                 date\n",
       "0       1     5994          8.94  2011-07-04-09-05-56\n",
       "1  905914    20572          0.01  2011-06-23-19-10-01\n",
       "2  905914   622803  220.07592886  2011-06-23-19-10-01\n",
       "3  823336   118969          2.12  2011-05-16-01-58-01\n",
       "4  823336   330686    0.56210609  2011-05-16-01-58-01"
      ]
     },
     "execution_count": 5,
     "metadata": {},
     "output_type": "execute_result"
    }
   ],
   "source": [
    "transactions_list = [t.split('\\t') for t in transactions]\n",
    "transactions_df = pd.DataFrame(transactions_list, columns=['sender', 'receiver', 'BTC', 'date'])\n",
    "transactions_df.head()"
   ]
  },
  {
   "cell_type": "code",
   "execution_count": 6,
   "metadata": {},
   "outputs": [],
   "source": [
    "transactions_df[['sender', 'receiver']] = transactions_df[['sender', 'receiver']].astype('int')\n",
    "transactions_df['BTC'] = transactions_df['BTC'].astype('float')"
   ]
  },
  {
   "cell_type": "code",
   "execution_count": 7,
   "metadata": {
    "scrolled": true
   },
   "outputs": [],
   "source": [
    "g = nx.from_pandas_edgelist(transactions_df, 'sender', 'receiver', ['BTC', 'date'], create_using=nx.MultiDiGraph())\n",
    "# layout = nx.spring_layout(g,iterations=50)\n",
    "# nx.draw(g, layout)"
   ]
  },
  {
   "cell_type": "code",
   "execution_count": 8,
   "metadata": {},
   "outputs": [
    {
     "name": "stdout",
     "output_type": "stream",
     "text": [
      "Number of nodes to include: 554\n"
     ]
    }
   ],
   "source": [
    "nodes_to_include = []\n",
    "for node in g.nodes():\n",
    "    degree = g.in_degree(node) + g.out_degree(node)\n",
    "#     print(node, g.in_degree(node) + g.out_degree(node))\n",
    "    if degree >= HUB_DEGREE:\n",
    "        nodes_to_include.append(node)\n",
    "print(f'Number of nodes to include: {len(nodes_to_include)}')\n",
    "# removing non-hub nodes makes the graph sparse and the hubs lose their characteristics\n",
    "# lets \n",
    "# for node in nodes_to_exclude:\n",
    "#     g.remove_node(node)"
   ]
  },
  {
   "cell_type": "code",
   "execution_count": 9,
   "metadata": {},
   "outputs": [],
   "source": [
    "def get_degrees(node, g):\n",
    "    \n",
    "    in_degree = g.in_degree(node)\n",
    "    out_degree = g.out_degree(node)\n",
    "    degree = in_degree + out_degree\n",
    "    \n",
    "    return in_degree, out_degree, degree\n",
    "\n",
    "def get_features(node, g):\n",
    "    features = {}\n",
    "    \n",
    "    in_degree, out_degree, degree = get_degrees(node, g)\n",
    "\n",
    "    features['in_degree'] = in_degree\n",
    "    features['out_degree'] = out_degree\n",
    "    features['degree'] = degree\n",
    "#     features['num_public_keys'] = vertex2keys[node]\n",
    "    \n",
    "    children_in_degrees = []\n",
    "    children_out_degrees = []\n",
    "    children_degrees = []\n",
    "\n",
    "    in_nodes = list(g.predecessors(node))\n",
    "    out_nodes = list(g.successors(node))\n",
    "    \n",
    "#     features['unique_in_degree'] = len(in_nodes)\n",
    "#     features['unique_out_degree'] = len(out_nodes)\n",
    "    \n",
    "    in_trasaction = []\n",
    "    out_transaction = []\n",
    "    _transaction = []\n",
    "\n",
    "    features['mean_in_BTC'] = 0\n",
    "    features['mean_out_BTC'] = 0\n",
    "    features['mean_BTC'] = 0\n",
    "    features['var_in_BTC'] = 0\n",
    "    features['var_out_BTC'] = 0\n",
    "    features['var_BTC'] = 0\n",
    "    \n",
    "    features['children_mean_in_degree'] = 0\n",
    "    features['children_mean_out_degree'] = 0\n",
    "    features['children_mean_degree'] = 0\n",
    "    features['children_var_in_degree'] = 0\n",
    "    features['children_var_out_degree'] = 0\n",
    "    features['children_var_degree'] = 0\n",
    "    \n",
    "    \n",
    "    \n",
    "    if len(in_nodes):\n",
    "        for in_node in in_nodes:\n",
    "            for _, transaction in g[in_node][node].items():\n",
    "                in_trasaction.append(transaction['BTC'])\n",
    "#         print(in_trasaction)\n",
    "        features['mean_in_BTC'] = np.mean(in_trasaction)\n",
    "        features['var_in_BTC'] = np.var(in_trasaction)\n",
    "        _transaction += in_trasaction\n",
    "\n",
    "    if len(out_nodes):\n",
    "        for out_node in out_nodes:\n",
    "            c_in_degree, c_out_degree, c_degree = get_degrees(out_node, g)\n",
    "            children_in_degrees.append(c_in_degree)\n",
    "            children_out_degrees.append(c_out_degree)\n",
    "            children_degrees.append(c_degree)\n",
    "            for _, transaction in g[node][out_node].items():\n",
    "                out_transaction.append(transaction['BTC'])\n",
    "        \n",
    "        features['mean_out_BTC'] = np.mean(out_transaction)\n",
    "        features['var_out_BTC'] = np.var(out_transaction)\n",
    "        \n",
    "        features['children_mean_in_degree'] = np.mean(children_in_degrees)\n",
    "        features['children_mean_out_degree'] = np.mean(children_out_degrees)\n",
    "        features['children_mean_degree'] = np.mean(children_degrees)\n",
    "        features['children_var_in_degree'] = np.var(children_in_degrees)\n",
    "        features['children_var_out_degree'] = np.var(children_out_degrees)\n",
    "        features['children_var_degree'] = np.var(children_degrees)\n",
    "    \n",
    "        _transaction += out_transaction\n",
    "    \n",
    "    if transaction:\n",
    "        features['mean_BTC'] = np.mean(_transaction)\n",
    "        features['var_BTC'] = np.var(_transaction)\n",
    "    \n",
    "    \n",
    "    \n",
    "#     features['balance'] = np.sum(in_trasaction) - np.sum(out_transaction)\n",
    "    return pd.Series(list(features.values()))\n",
    "    "
   ]
  },
  {
   "cell_type": "code",
   "execution_count": 10,
   "metadata": {},
   "outputs": [],
   "source": [
    "nodes_df = pd.DataFrame(nodes_to_include, columns=['Node'])"
   ]
  },
  {
   "cell_type": "code",
   "execution_count": 11,
   "metadata": {},
   "outputs": [],
   "source": [
    "features = ['in_degree', 'out_degree', 'degree', \\\n",
    "#             'unique_in_degree', 'unique_out_degree', 'balance'\n",
    "            'mean_in_BTC', 'mean_out_BTC', 'mean_BTC',\\\n",
    "            'var_in_BTC', 'var_out_BTC', 'var_BTC',\\\n",
    "            'children_mean_in_degree', 'children_mean_out_degree',\\\n",
    "            'children_mean_degree', 'children_var_in_degree',\\\n",
    "            'children_var_out_degree', 'children_var_degree' ]"
   ]
  },
  {
   "cell_type": "code",
   "execution_count": 12,
   "metadata": {},
   "outputs": [
    {
     "data": {
      "text/html": [
       "<div>\n",
       "<style scoped>\n",
       "    .dataframe tbody tr th:only-of-type {\n",
       "        vertical-align: middle;\n",
       "    }\n",
       "\n",
       "    .dataframe tbody tr th {\n",
       "        vertical-align: top;\n",
       "    }\n",
       "\n",
       "    .dataframe thead th {\n",
       "        text-align: right;\n",
       "    }\n",
       "</style>\n",
       "<table border=\"1\" class=\"dataframe\">\n",
       "  <thead>\n",
       "    <tr style=\"text-align: right;\">\n",
       "      <th></th>\n",
       "      <th>Node</th>\n",
       "    </tr>\n",
       "  </thead>\n",
       "  <tbody>\n",
       "    <tr>\n",
       "      <th>0</th>\n",
       "      <td>1</td>\n",
       "    </tr>\n",
       "    <tr>\n",
       "      <th>1</th>\n",
       "      <td>2</td>\n",
       "    </tr>\n",
       "    <tr>\n",
       "      <th>2</th>\n",
       "      <td>2909</td>\n",
       "    </tr>\n",
       "    <tr>\n",
       "      <th>3</th>\n",
       "      <td>1743</td>\n",
       "    </tr>\n",
       "    <tr>\n",
       "      <th>4</th>\n",
       "      <td>260244</td>\n",
       "    </tr>\n",
       "  </tbody>\n",
       "</table>\n",
       "</div>"
      ],
      "text/plain": [
       "     Node\n",
       "0       1\n",
       "1       2\n",
       "2    2909\n",
       "3    1743\n",
       "4  260244"
      ]
     },
     "execution_count": 12,
     "metadata": {},
     "output_type": "execute_result"
    }
   ],
   "source": [
    "nodes_df.head()"
   ]
  },
  {
   "cell_type": "code",
   "execution_count": 13,
   "metadata": {},
   "outputs": [],
   "source": [
    "nodes_df[features] = nodes_df.apply(lambda row: get_features(row['Node'], g), axis=1)"
   ]
  },
  {
   "cell_type": "code",
   "execution_count": 14,
   "metadata": {
    "scrolled": true
   },
   "outputs": [
    {
     "data": {
      "text/html": [
       "<div>\n",
       "<style scoped>\n",
       "    .dataframe tbody tr th:only-of-type {\n",
       "        vertical-align: middle;\n",
       "    }\n",
       "\n",
       "    .dataframe tbody tr th {\n",
       "        vertical-align: top;\n",
       "    }\n",
       "\n",
       "    .dataframe thead th {\n",
       "        text-align: right;\n",
       "    }\n",
       "</style>\n",
       "<table border=\"1\" class=\"dataframe\">\n",
       "  <thead>\n",
       "    <tr style=\"text-align: right;\">\n",
       "      <th></th>\n",
       "      <th>Node</th>\n",
       "      <th>in_degree</th>\n",
       "      <th>out_degree</th>\n",
       "      <th>degree</th>\n",
       "      <th>mean_in_BTC</th>\n",
       "      <th>mean_out_BTC</th>\n",
       "      <th>mean_BTC</th>\n",
       "      <th>var_in_BTC</th>\n",
       "      <th>var_out_BTC</th>\n",
       "      <th>var_BTC</th>\n",
       "      <th>children_mean_in_degree</th>\n",
       "      <th>children_mean_out_degree</th>\n",
       "      <th>children_mean_degree</th>\n",
       "      <th>children_var_in_degree</th>\n",
       "      <th>children_var_out_degree</th>\n",
       "      <th>children_var_degree</th>\n",
       "    </tr>\n",
       "  </thead>\n",
       "  <tbody>\n",
       "    <tr>\n",
       "      <th>0</th>\n",
       "      <td>1</td>\n",
       "      <td>204.0</td>\n",
       "      <td>105.0</td>\n",
       "      <td>309.0</td>\n",
       "      <td>21.240342</td>\n",
       "      <td>41.236190</td>\n",
       "      <td>28.035048</td>\n",
       "      <td>4.333556e+02</td>\n",
       "      <td>4.559610e+04</td>\n",
       "      <td>1.586962e+04</td>\n",
       "      <td>1667.000000</td>\n",
       "      <td>357.666667</td>\n",
       "      <td>2024.666667</td>\n",
       "      <td>1.209854e+08</td>\n",
       "      <td>5.458648e+06</td>\n",
       "      <td>1.778407e+08</td>\n",
       "    </tr>\n",
       "    <tr>\n",
       "      <th>1</th>\n",
       "      <td>2</td>\n",
       "      <td>3305.0</td>\n",
       "      <td>2910.0</td>\n",
       "      <td>6215.0</td>\n",
       "      <td>0.471159</td>\n",
       "      <td>0.543876</td>\n",
       "      <td>0.505207</td>\n",
       "      <td>5.467018e+00</td>\n",
       "      <td>6.948765e+00</td>\n",
       "      <td>6.162121e+00</td>\n",
       "      <td>169.939560</td>\n",
       "      <td>44.893773</td>\n",
       "      <td>214.833333</td>\n",
       "      <td>1.019868e+07</td>\n",
       "      <td>4.745991e+05</td>\n",
       "      <td>1.503124e+07</td>\n",
       "    </tr>\n",
       "    <tr>\n",
       "      <th>2</th>\n",
       "      <td>2909</td>\n",
       "      <td>347.0</td>\n",
       "      <td>173.0</td>\n",
       "      <td>520.0</td>\n",
       "      <td>212.289222</td>\n",
       "      <td>425.805549</td>\n",
       "      <td>283.324462</td>\n",
       "      <td>7.475791e+05</td>\n",
       "      <td>1.976617e+06</td>\n",
       "      <td>1.166592e+06</td>\n",
       "      <td>845.196262</td>\n",
       "      <td>224.504673</td>\n",
       "      <td>1069.700935</td>\n",
       "      <td>5.218603e+07</td>\n",
       "      <td>2.630085e+06</td>\n",
       "      <td>7.759352e+07</td>\n",
       "    </tr>\n",
       "    <tr>\n",
       "      <th>3</th>\n",
       "      <td>1743</td>\n",
       "      <td>845.0</td>\n",
       "      <td>52.0</td>\n",
       "      <td>897.0</td>\n",
       "      <td>0.098415</td>\n",
       "      <td>1.556538</td>\n",
       "      <td>0.182944</td>\n",
       "      <td>8.232848e-02</td>\n",
       "      <td>4.781843e+01</td>\n",
       "      <td>2.965747e+00</td>\n",
       "      <td>2984.062500</td>\n",
       "      <td>852.906250</td>\n",
       "      <td>3836.968750</td>\n",
       "      <td>1.688996e+08</td>\n",
       "      <td>8.549091e+06</td>\n",
       "      <td>2.508892e+08</td>\n",
       "    </tr>\n",
       "    <tr>\n",
       "      <th>4</th>\n",
       "      <td>260244</td>\n",
       "      <td>4966.0</td>\n",
       "      <td>5252.0</td>\n",
       "      <td>10218.0</td>\n",
       "      <td>0.010000</td>\n",
       "      <td>0.056243</td>\n",
       "      <td>0.033769</td>\n",
       "      <td>3.009266e-36</td>\n",
       "      <td>1.645592e-01</td>\n",
       "      <td>8.511677e-02</td>\n",
       "      <td>372.224000</td>\n",
       "      <td>101.080000</td>\n",
       "      <td>473.304000</td>\n",
       "      <td>2.224790e+07</td>\n",
       "      <td>1.110576e+06</td>\n",
       "      <td>3.296380e+07</td>\n",
       "    </tr>\n",
       "    <tr>\n",
       "      <th>5</th>\n",
       "      <td>23</td>\n",
       "      <td>74628.0</td>\n",
       "      <td>15855.0</td>\n",
       "      <td>90483.0</td>\n",
       "      <td>12.637562</td>\n",
       "      <td>59.490309</td>\n",
       "      <td>20.847395</td>\n",
       "      <td>1.085447e+05</td>\n",
       "      <td>6.064186e+05</td>\n",
       "      <td>1.961026e+05</td>\n",
       "      <td>28.003850</td>\n",
       "      <td>12.007020</td>\n",
       "      <td>40.010870</td>\n",
       "      <td>6.895520e+05</td>\n",
       "      <td>5.843419e+04</td>\n",
       "      <td>1.083859e+06</td>\n",
       "    </tr>\n",
       "    <tr>\n",
       "      <th>6</th>\n",
       "      <td>3463</td>\n",
       "      <td>1152.0</td>\n",
       "      <td>2093.0</td>\n",
       "      <td>3245.0</td>\n",
       "      <td>61.561319</td>\n",
       "      <td>33.906439</td>\n",
       "      <td>43.724135</td>\n",
       "      <td>2.479134e+04</td>\n",
       "      <td>1.944738e+04</td>\n",
       "      <td>2.151964e+04</td>\n",
       "      <td>108.687637</td>\n",
       "      <td>147.791514</td>\n",
       "      <td>256.479151</td>\n",
       "      <td>4.134444e+06</td>\n",
       "      <td>2.102923e+07</td>\n",
       "      <td>2.825974e+07</td>\n",
       "    </tr>\n",
       "    <tr>\n",
       "      <th>7</th>\n",
       "      <td>8064</td>\n",
       "      <td>202.0</td>\n",
       "      <td>85.0</td>\n",
       "      <td>287.0</td>\n",
       "      <td>15.082837</td>\n",
       "      <td>35.735094</td>\n",
       "      <td>21.199359</td>\n",
       "      <td>1.663353e+02</td>\n",
       "      <td>3.973045e+03</td>\n",
       "      <td>1.382666e+03</td>\n",
       "      <td>1486.641509</td>\n",
       "      <td>389.849057</td>\n",
       "      <td>1876.490566</td>\n",
       "      <td>1.030277e+08</td>\n",
       "      <td>4.925253e+06</td>\n",
       "      <td>1.518945e+08</td>\n",
       "    </tr>\n",
       "    <tr>\n",
       "      <th>8</th>\n",
       "      <td>2226</td>\n",
       "      <td>1188.0</td>\n",
       "      <td>97.0</td>\n",
       "      <td>1285.0</td>\n",
       "      <td>1.390194</td>\n",
       "      <td>17.012784</td>\n",
       "      <td>2.569486</td>\n",
       "      <td>5.154817e+02</td>\n",
       "      <td>9.242408e+03</td>\n",
       "      <td>1.191279e+03</td>\n",
       "      <td>334.877551</td>\n",
       "      <td>196.469388</td>\n",
       "      <td>531.346939</td>\n",
       "      <td>2.360932e+06</td>\n",
       "      <td>9.728129e+05</td>\n",
       "      <td>6.343505e+06</td>\n",
       "    </tr>\n",
       "    <tr>\n",
       "      <th>9</th>\n",
       "      <td>767</td>\n",
       "      <td>244.0</td>\n",
       "      <td>322.0</td>\n",
       "      <td>566.0</td>\n",
       "      <td>0.203678</td>\n",
       "      <td>0.130509</td>\n",
       "      <td>0.162052</td>\n",
       "      <td>5.644987e-02</td>\n",
       "      <td>3.467739e-02</td>\n",
       "      <td>4.537641e-02</td>\n",
       "      <td>107.150000</td>\n",
       "      <td>68.690000</td>\n",
       "      <td>175.840000</td>\n",
       "      <td>1.045492e+06</td>\n",
       "      <td>4.004368e+05</td>\n",
       "      <td>2.739532e+06</td>\n",
       "    </tr>\n",
       "    <tr>\n",
       "      <th>10</th>\n",
       "      <td>59</td>\n",
       "      <td>10278.0</td>\n",
       "      <td>6357.0</td>\n",
       "      <td>16635.0</td>\n",
       "      <td>0.104699</td>\n",
       "      <td>0.165846</td>\n",
       "      <td>0.128066</td>\n",
       "      <td>1.714543e-02</td>\n",
       "      <td>4.820149e-01</td>\n",
       "      <td>1.956763e-01</td>\n",
       "      <td>206.510851</td>\n",
       "      <td>76.176962</td>\n",
       "      <td>282.687813</td>\n",
       "      <td>9.848344e+06</td>\n",
       "      <td>5.983783e+05</td>\n",
       "      <td>1.501335e+07</td>\n",
       "    </tr>\n",
       "    <tr>\n",
       "      <th>11</th>\n",
       "      <td>348</td>\n",
       "      <td>2810.0</td>\n",
       "      <td>4194.0</td>\n",
       "      <td>7004.0</td>\n",
       "      <td>9.125078</td>\n",
       "      <td>6.113479</td>\n",
       "      <td>7.321730</td>\n",
       "      <td>1.318543e+04</td>\n",
       "      <td>8.811509e+03</td>\n",
       "      <td>1.056850e+04</td>\n",
       "      <td>40.430782</td>\n",
       "      <td>13.773776</td>\n",
       "      <td>54.204558</td>\n",
       "      <td>1.660671e+06</td>\n",
       "      <td>1.060961e+05</td>\n",
       "      <td>2.540047e+06</td>\n",
       "    </tr>\n",
       "    <tr>\n",
       "      <th>12</th>\n",
       "      <td>21938</td>\n",
       "      <td>713.0</td>\n",
       "      <td>4.0</td>\n",
       "      <td>717.0</td>\n",
       "      <td>0.817501</td>\n",
       "      <td>133.895000</td>\n",
       "      <td>1.559914</td>\n",
       "      <td>5.128682e+00</td>\n",
       "      <td>8.896613e+03</td>\n",
       "      <td>1.529798e+02</td>\n",
       "      <td>19064.500000</td>\n",
       "      <td>4067.500000</td>\n",
       "      <td>23132.000000</td>\n",
       "      <td>1.029487e+09</td>\n",
       "      <td>4.634314e+07</td>\n",
       "      <td>1.512675e+09</td>\n",
       "    </tr>\n",
       "    <tr>\n",
       "      <th>13</th>\n",
       "      <td>16</td>\n",
       "      <td>9422.0</td>\n",
       "      <td>6294.0</td>\n",
       "      <td>15716.0</td>\n",
       "      <td>5.822260</td>\n",
       "      <td>7.097684</td>\n",
       "      <td>6.333046</td>\n",
       "      <td>6.629381e+02</td>\n",
       "      <td>6.389733e+02</td>\n",
       "      <td>6.537311e+02</td>\n",
       "      <td>57.847777</td>\n",
       "      <td>20.684627</td>\n",
       "      <td>78.532404</td>\n",
       "      <td>2.245656e+06</td>\n",
       "      <td>1.408222e+05</td>\n",
       "      <td>3.439687e+06</td>\n",
       "    </tr>\n",
       "    <tr>\n",
       "      <th>14</th>\n",
       "      <td>2075</td>\n",
       "      <td>436.0</td>\n",
       "      <td>165.0</td>\n",
       "      <td>601.0</td>\n",
       "      <td>25.448784</td>\n",
       "      <td>66.685152</td>\n",
       "      <td>36.769917</td>\n",
       "      <td>4.334288e+03</td>\n",
       "      <td>4.461330e+04</td>\n",
       "      <td>1.573126e+04</td>\n",
       "      <td>1000.673684</td>\n",
       "      <td>270.515789</td>\n",
       "      <td>1271.189474</td>\n",
       "      <td>5.924161e+07</td>\n",
       "      <td>2.920362e+06</td>\n",
       "      <td>8.797781e+07</td>\n",
       "    </tr>\n",
       "  </tbody>\n",
       "</table>\n",
       "</div>"
      ],
      "text/plain": [
       "      Node  in_degree  out_degree   degree  mean_in_BTC  mean_out_BTC  \\\n",
       "0        1      204.0       105.0    309.0    21.240342     41.236190   \n",
       "1        2     3305.0      2910.0   6215.0     0.471159      0.543876   \n",
       "2     2909      347.0       173.0    520.0   212.289222    425.805549   \n",
       "3     1743      845.0        52.0    897.0     0.098415      1.556538   \n",
       "4   260244     4966.0      5252.0  10218.0     0.010000      0.056243   \n",
       "5       23    74628.0     15855.0  90483.0    12.637562     59.490309   \n",
       "6     3463     1152.0      2093.0   3245.0    61.561319     33.906439   \n",
       "7     8064      202.0        85.0    287.0    15.082837     35.735094   \n",
       "8     2226     1188.0        97.0   1285.0     1.390194     17.012784   \n",
       "9      767      244.0       322.0    566.0     0.203678      0.130509   \n",
       "10      59    10278.0      6357.0  16635.0     0.104699      0.165846   \n",
       "11     348     2810.0      4194.0   7004.0     9.125078      6.113479   \n",
       "12   21938      713.0         4.0    717.0     0.817501    133.895000   \n",
       "13      16     9422.0      6294.0  15716.0     5.822260      7.097684   \n",
       "14    2075      436.0       165.0    601.0    25.448784     66.685152   \n",
       "\n",
       "      mean_BTC    var_in_BTC   var_out_BTC       var_BTC  \\\n",
       "0    28.035048  4.333556e+02  4.559610e+04  1.586962e+04   \n",
       "1     0.505207  5.467018e+00  6.948765e+00  6.162121e+00   \n",
       "2   283.324462  7.475791e+05  1.976617e+06  1.166592e+06   \n",
       "3     0.182944  8.232848e-02  4.781843e+01  2.965747e+00   \n",
       "4     0.033769  3.009266e-36  1.645592e-01  8.511677e-02   \n",
       "5    20.847395  1.085447e+05  6.064186e+05  1.961026e+05   \n",
       "6    43.724135  2.479134e+04  1.944738e+04  2.151964e+04   \n",
       "7    21.199359  1.663353e+02  3.973045e+03  1.382666e+03   \n",
       "8     2.569486  5.154817e+02  9.242408e+03  1.191279e+03   \n",
       "9     0.162052  5.644987e-02  3.467739e-02  4.537641e-02   \n",
       "10    0.128066  1.714543e-02  4.820149e-01  1.956763e-01   \n",
       "11    7.321730  1.318543e+04  8.811509e+03  1.056850e+04   \n",
       "12    1.559914  5.128682e+00  8.896613e+03  1.529798e+02   \n",
       "13    6.333046  6.629381e+02  6.389733e+02  6.537311e+02   \n",
       "14   36.769917  4.334288e+03  4.461330e+04  1.573126e+04   \n",
       "\n",
       "    children_mean_in_degree  children_mean_out_degree  children_mean_degree  \\\n",
       "0               1667.000000                357.666667           2024.666667   \n",
       "1                169.939560                 44.893773            214.833333   \n",
       "2                845.196262                224.504673           1069.700935   \n",
       "3               2984.062500                852.906250           3836.968750   \n",
       "4                372.224000                101.080000            473.304000   \n",
       "5                 28.003850                 12.007020             40.010870   \n",
       "6                108.687637                147.791514            256.479151   \n",
       "7               1486.641509                389.849057           1876.490566   \n",
       "8                334.877551                196.469388            531.346939   \n",
       "9                107.150000                 68.690000            175.840000   \n",
       "10               206.510851                 76.176962            282.687813   \n",
       "11                40.430782                 13.773776             54.204558   \n",
       "12             19064.500000               4067.500000          23132.000000   \n",
       "13                57.847777                 20.684627             78.532404   \n",
       "14              1000.673684                270.515789           1271.189474   \n",
       "\n",
       "    children_var_in_degree  children_var_out_degree  children_var_degree  \n",
       "0             1.209854e+08             5.458648e+06         1.778407e+08  \n",
       "1             1.019868e+07             4.745991e+05         1.503124e+07  \n",
       "2             5.218603e+07             2.630085e+06         7.759352e+07  \n",
       "3             1.688996e+08             8.549091e+06         2.508892e+08  \n",
       "4             2.224790e+07             1.110576e+06         3.296380e+07  \n",
       "5             6.895520e+05             5.843419e+04         1.083859e+06  \n",
       "6             4.134444e+06             2.102923e+07         2.825974e+07  \n",
       "7             1.030277e+08             4.925253e+06         1.518945e+08  \n",
       "8             2.360932e+06             9.728129e+05         6.343505e+06  \n",
       "9             1.045492e+06             4.004368e+05         2.739532e+06  \n",
       "10            9.848344e+06             5.983783e+05         1.501335e+07  \n",
       "11            1.660671e+06             1.060961e+05         2.540047e+06  \n",
       "12            1.029487e+09             4.634314e+07         1.512675e+09  \n",
       "13            2.245656e+06             1.408222e+05         3.439687e+06  \n",
       "14            5.924161e+07             2.920362e+06         8.797781e+07  "
      ]
     },
     "execution_count": 14,
     "metadata": {},
     "output_type": "execute_result"
    }
   ],
   "source": [
    "nodes_df.head(15)"
   ]
  },
  {
   "cell_type": "code",
   "execution_count": 15,
   "metadata": {},
   "outputs": [],
   "source": [
    "nodes_df.to_csv('features.csv', index=False)"
   ]
  },
  {
   "cell_type": "code",
   "execution_count": 16,
   "metadata": {},
   "outputs": [
    {
     "name": "stdout",
     "output_type": "stream",
     "text": [
      "[[0.00273356 0.00062186 0.00033886 ... 0.08690088 0.02223832 0.08689706]\n",
      " [0.04428633 0.01723433 0.03425936 ... 0.00732546 0.0019335  0.00734461]\n",
      " [0.00464973 0.00102458 0.00155072 ... 0.03748397 0.01071486 0.03791399]\n",
      " ...\n",
      " [0.         0.00318036 0.00164835 ... 0.00787119 0.00291865 0.00806195]\n",
      " [0.         0.00262365 0.00110848 ... 0.0094415  0.00349954 0.00966935]\n",
      " [0.         0.00207878 0.00058008 ... 0.01216468 0.00464875 0.01254042]]\n"
     ]
    }
   ],
   "source": [
    "from sklearn.preprocessing import MinMaxScaler\n",
    "\n",
    "scaler = MinMaxScaler()\n",
    "X = nodes_df[features].values\n",
    "X_scaled = scaler.fit_transform(X)\n",
    "print(X_scaled)\n"
   ]
  },
  {
   "cell_type": "code",
   "execution_count": 17,
   "metadata": {},
   "outputs": [
    {
     "data": {
      "text/plain": [
       "Text(0.5, 1.0, 'Elbow Method For Optimal k')"
      ]
     },
     "execution_count": 17,
     "metadata": {},
     "output_type": "execute_result"
    },
    {
     "data": {
      "image/png": "[encoded data removed]",
      "text/plain": [
       "<Figure size 432x288 with 1 Axes>"
      ]
     },
     "metadata": {
      "needs_background": "light"
     },
     "output_type": "display_data"
    }
   ],
   "source": [
    "# https://blog.cambridgespark.com/how-to-determine-the-optimal-number-of-clusters-for-k-means-clustering-14f27070048f\n",
    "from sklearn.cluster import KMeans\n",
    "error = []\n",
    "K = range(1,10)\n",
    "for k in K:\n",
    "    km = KMeans(n_clusters=k)\n",
    "    km = km.fit(X_scaled)\n",
    "    error.append(km.inertia_)\n",
    "\n",
    "plt.plot(K, error, 'bx-')\n",
    "plt.xlabel('k')\n",
    "plt.ylabel('Erros')\n",
    "plt.title('Elbow Method For Optimal k')"
   ]
  },
  {
   "cell_type": "code",
   "execution_count": 18,
   "metadata": {},
   "outputs": [],
   "source": [
    "km = KMeans(n_clusters=5)\n",
    "km = km.fit(X_scaled)\n",
    "labels = km.predict(X_scaled)\n",
    "# print(labels)\n",
    "nodes_df['cluster'] = labels"
   ]
  },
  {
   "cell_type": "code",
   "execution_count": 19,
   "metadata": {},
   "outputs": [
    {
     "data": {
      "text/html": [
       "<div>\n",
       "<style scoped>\n",
       "    .dataframe tbody tr th:only-of-type {\n",
       "        vertical-align: middle;\n",
       "    }\n",
       "\n",
       "    .dataframe tbody tr th {\n",
       "        vertical-align: top;\n",
       "    }\n",
       "\n",
       "    .dataframe thead th {\n",
       "        text-align: right;\n",
       "    }\n",
       "</style>\n",
       "<table border=\"1\" class=\"dataframe\">\n",
       "  <thead>\n",
       "    <tr style=\"text-align: right;\">\n",
       "      <th></th>\n",
       "      <th>Node</th>\n",
       "      <th>in_degree</th>\n",
       "      <th>out_degree</th>\n",
       "      <th>degree</th>\n",
       "      <th>mean_in_BTC</th>\n",
       "      <th>mean_out_BTC</th>\n",
       "      <th>mean_BTC</th>\n",
       "      <th>var_in_BTC</th>\n",
       "      <th>var_out_BTC</th>\n",
       "      <th>var_BTC</th>\n",
       "      <th>children_mean_in_degree</th>\n",
       "      <th>children_mean_out_degree</th>\n",
       "      <th>children_mean_degree</th>\n",
       "      <th>children_var_in_degree</th>\n",
       "      <th>children_var_out_degree</th>\n",
       "      <th>children_var_degree</th>\n",
       "      <th>cluster</th>\n",
       "    </tr>\n",
       "  </thead>\n",
       "  <tbody>\n",
       "    <tr>\n",
       "      <th>0</th>\n",
       "      <td>1</td>\n",
       "      <td>204.0</td>\n",
       "      <td>105.0</td>\n",
       "      <td>309.0</td>\n",
       "      <td>21.240342</td>\n",
       "      <td>41.236190</td>\n",
       "      <td>28.035048</td>\n",
       "      <td>4.333556e+02</td>\n",
       "      <td>4.559610e+04</td>\n",
       "      <td>1.586962e+04</td>\n",
       "      <td>1667.000000</td>\n",
       "      <td>357.666667</td>\n",
       "      <td>2024.666667</td>\n",
       "      <td>1.209854e+08</td>\n",
       "      <td>5.458648e+06</td>\n",
       "      <td>1.778407e+08</td>\n",
       "      <td>3</td>\n",
       "    </tr>\n",
       "    <tr>\n",
       "      <th>1</th>\n",
       "      <td>2</td>\n",
       "      <td>3305.0</td>\n",
       "      <td>2910.0</td>\n",
       "      <td>6215.0</td>\n",
       "      <td>0.471159</td>\n",
       "      <td>0.543876</td>\n",
       "      <td>0.505207</td>\n",
       "      <td>5.467018e+00</td>\n",
       "      <td>6.948765e+00</td>\n",
       "      <td>6.162121e+00</td>\n",
       "      <td>169.939560</td>\n",
       "      <td>44.893773</td>\n",
       "      <td>214.833333</td>\n",
       "      <td>1.019868e+07</td>\n",
       "      <td>4.745991e+05</td>\n",
       "      <td>1.503124e+07</td>\n",
       "      <td>3</td>\n",
       "    </tr>\n",
       "    <tr>\n",
       "      <th>2</th>\n",
       "      <td>2909</td>\n",
       "      <td>347.0</td>\n",
       "      <td>173.0</td>\n",
       "      <td>520.0</td>\n",
       "      <td>212.289222</td>\n",
       "      <td>425.805549</td>\n",
       "      <td>283.324462</td>\n",
       "      <td>7.475791e+05</td>\n",
       "      <td>1.976617e+06</td>\n",
       "      <td>1.166592e+06</td>\n",
       "      <td>845.196262</td>\n",
       "      <td>224.504673</td>\n",
       "      <td>1069.700935</td>\n",
       "      <td>5.218603e+07</td>\n",
       "      <td>2.630085e+06</td>\n",
       "      <td>7.759352e+07</td>\n",
       "      <td>3</td>\n",
       "    </tr>\n",
       "    <tr>\n",
       "      <th>3</th>\n",
       "      <td>1743</td>\n",
       "      <td>845.0</td>\n",
       "      <td>52.0</td>\n",
       "      <td>897.0</td>\n",
       "      <td>0.098415</td>\n",
       "      <td>1.556538</td>\n",
       "      <td>0.182944</td>\n",
       "      <td>8.232848e-02</td>\n",
       "      <td>4.781843e+01</td>\n",
       "      <td>2.965747e+00</td>\n",
       "      <td>2984.062500</td>\n",
       "      <td>852.906250</td>\n",
       "      <td>3836.968750</td>\n",
       "      <td>1.688996e+08</td>\n",
       "      <td>8.549091e+06</td>\n",
       "      <td>2.508892e+08</td>\n",
       "      <td>4</td>\n",
       "    </tr>\n",
       "    <tr>\n",
       "      <th>4</th>\n",
       "      <td>260244</td>\n",
       "      <td>4966.0</td>\n",
       "      <td>5252.0</td>\n",
       "      <td>10218.0</td>\n",
       "      <td>0.010000</td>\n",
       "      <td>0.056243</td>\n",
       "      <td>0.033769</td>\n",
       "      <td>3.009266e-36</td>\n",
       "      <td>1.645592e-01</td>\n",
       "      <td>8.511677e-02</td>\n",
       "      <td>372.224000</td>\n",
       "      <td>101.080000</td>\n",
       "      <td>473.304000</td>\n",
       "      <td>2.224790e+07</td>\n",
       "      <td>1.110576e+06</td>\n",
       "      <td>3.296380e+07</td>\n",
       "      <td>3</td>\n",
       "    </tr>\n",
       "  </tbody>\n",
       "</table>\n",
       "</div>"
      ],
      "text/plain": [
       "     Node  in_degree  out_degree   degree  mean_in_BTC  mean_out_BTC  \\\n",
       "0       1      204.0       105.0    309.0    21.240342     41.236190   \n",
       "1       2     3305.0      2910.0   6215.0     0.471159      0.543876   \n",
       "2    2909      347.0       173.0    520.0   212.289222    425.805549   \n",
       "3    1743      845.0        52.0    897.0     0.098415      1.556538   \n",
       "4  260244     4966.0      5252.0  10218.0     0.010000      0.056243   \n",
       "\n",
       "     mean_BTC    var_in_BTC   var_out_BTC       var_BTC  \\\n",
       "0   28.035048  4.333556e+02  4.559610e+04  1.586962e+04   \n",
       "1    0.505207  5.467018e+00  6.948765e+00  6.162121e+00   \n",
       "2  283.324462  7.475791e+05  1.976617e+06  1.166592e+06   \n",
       "3    0.182944  8.232848e-02  4.781843e+01  2.965747e+00   \n",
       "4    0.033769  3.009266e-36  1.645592e-01  8.511677e-02   \n",
       "\n",
       "   children_mean_in_degree  children_mean_out_degree  children_mean_degree  \\\n",
       "0              1667.000000                357.666667           2024.666667   \n",
       "1               169.939560                 44.893773            214.833333   \n",
       "2               845.196262                224.504673           1069.700935   \n",
       "3              2984.062500                852.906250           3836.968750   \n",
       "4               372.224000                101.080000            473.304000   \n",
       "\n",
       "   children_var_in_degree  children_var_out_degree  children_var_degree  \\\n",
       "0            1.209854e+08             5.458648e+06         1.778407e+08   \n",
       "1            1.019868e+07             4.745991e+05         1.503124e+07   \n",
       "2            5.218603e+07             2.630085e+06         7.759352e+07   \n",
       "3            1.688996e+08             8.549091e+06         2.508892e+08   \n",
       "4            2.224790e+07             1.110576e+06         3.296380e+07   \n",
       "\n",
       "   cluster  \n",
       "0        3  \n",
       "1        3  \n",
       "2        3  \n",
       "3        4  \n",
       "4        3  "
      ]
     },
     "execution_count": 19,
     "metadata": {},
     "output_type": "execute_result"
    }
   ],
   "source": [
    "nodes_df.head()"
   ]
  },
  {
   "cell_type": "code",
   "execution_count": 20,
   "metadata": {},
   "outputs": [],
   "source": [
    "# https://stackoverflow.com/questions/47250670/histogram-color-by-class\n",
    "def group_and_plot_hist(df, col_to_group, labels_col, bins):\n",
    "    _, edges = np.histogram(df[col_to_group], bins=bins)\n",
    "    histdata = []; labels=[]\n",
    "    for n, group in df.groupby(labels_col):\n",
    "        histdata.append(np.histogram(group[col_to_group], bins=edges)[0])\n",
    "        labels.append(n)\n",
    "\n",
    "    hist = np.array(histdata) \n",
    "    histcum = np.cumsum(hist,axis=0)\n",
    "\n",
    "    plt.bar(edges[:-1],hist[0,:], width=np.diff(edges)[0],\n",
    "                label=labels[0], align=\"edge\")\n",
    "\n",
    "    for i in range(1,len(hist)):\n",
    "        plt.bar(edges[:-1],hist[i,:], width=np.diff(edges)[0],\n",
    "                bottom=histcum[i-1,:],label=labels[i], align=\"edge\")\n",
    "    \n",
    "    plt.xlabel(col_to_group)\n",
    "    plt.ylabel('Hub Count')\n",
    "    plt.legend(title=\"cluster\")\n",
    "    plt.show()"
   ]
  },
  {
   "cell_type": "code",
   "execution_count": 21,
   "metadata": {},
   "outputs": [
    {
     "data": {
      "image/png": "[encoded data removed]",
      "text/plain": [
       "<Figure size 432x288 with 1 Axes>"
      ]
     },
     "metadata": {
      "needs_background": "light"
     },
     "output_type": "display_data"
    },
    {
     "data": {
      "image/png": "[encoded data removed]",
      "text/plain": [
       "<Figure size 432x288 with 1 Axes>"
      ]
     },
     "metadata": {
      "needs_background": "light"
     },
     "output_type": "display_data"
    },
    {
     "data": {
      "image/png": "[encoded data removed]",
      "text/plain": [
       "<Figure size 432x288 with 1 Axes>"
      ]
     },
     "metadata": {
      "needs_background": "light"
     },
     "output_type": "display_data"
    },
    {
     "data": {
      "image/png": "[encoded data removed]",
      "text/plain": [
       "<Figure size 432x288 with 1 Axes>"
      ]
     },
     "metadata": {
      "needs_background": "light"
     },
     "output_type": "display_data"
    },
    {
     "data": {
      "image/png": "[encoded data removed]",
      "text/plain": [
       "<Figure size 432x288 with 1 Axes>"
      ]
     },
     "metadata": {
      "needs_background": "light"
     },
     "output_type": "display_data"
    },
    {
     "data": {
      "image/png": "[encoded data removed]",
      "text/plain": [
       "<Figure size 432x288 with 1 Axes>"
      ]
     },
     "metadata": {
      "needs_background": "light"
     },
     "output_type": "display_data"
    },
    {
     "data": {
      "image/png": "[encoded data removed]",
      "text/plain": [
       "<Figure size 432x288 with 1 Axes>"
      ]
     },
     "metadata": {
      "needs_background": "light"
     },
     "output_type": "display_data"
    },
    {
     "data": {
      "image/png": "[encoded data removed]",
      "text/plain": [
       "<Figure size 432x288 with 1 Axes>"
      ]
     },
     "metadata": {
      "needs_background": "light"
     },
     "output_type": "display_data"
    },
    {
     "data": {
      "image/png": "[encoded data removed]",
      "text/plain": [
       "<Figure size 432x288 with 1 Axes>"
      ]
     },
     "metadata": {
      "needs_background": "light"
     },
     "output_type": "display_data"
    },
    {
     "data": {
      "image/png": "[encoded data removed]",
      "text/plain": [
       "<Figure size 432x288 with 1 Axes>"
      ]
     },
     "metadata": {
      "needs_background": "light"
     },
     "output_type": "display_data"
    },
    {
     "data": {
      "image/png": "[encoded data removed]",
      "text/plain": [
       "<Figure size 432x288 with 1 Axes>"
      ]
     },
     "metadata": {
      "needs_background": "light"
     },
     "output_type": "display_data"
    },
    {
     "data": {
      "image/png": "[encoded data removed]",
      "text/plain": [
       "<Figure size 432x288 with 1 Axes>"
      ]
     },
     "metadata": {
      "needs_background": "light"
     },
     "output_type": "display_data"
    },
    {
     "data": {
      "image/png": "[encoded data removed]",
      "text/plain": [
       "<Figure size 432x288 with 1 Axes>"
      ]
     },
     "metadata": {
      "needs_background": "light"
     },
     "output_type": "display_data"
    },
    {
     "data": {
      "image/png": "[encoded data removed]",
      "text/plain": [
       "<Figure size 432x288 with 1 Axes>"
      ]
     },
     "metadata": {
      "needs_background": "light"
     },
     "output_type": "display_data"
    },
    {
     "data": {
      "image/png": "[encoded data removed]",
      "text/plain": [
       "<Figure size 432x288 with 1 Axes>"
      ]
     },
     "metadata": {
      "needs_background": "light"
     },
     "output_type": "display_data"
    }
   ],
   "source": [
    "for feature in features:\n",
    "    group_and_plot_hist(nodes_df, feature, \"cluster\", 15)"
   ]
  },
  {
   "cell_type": "code",
   "execution_count": 22,
   "metadata": {},
   "outputs": [],
   "source": [
    "nodes_df.to_csv('processed_nodes.csv', index=False)"
   ]
  },
  {
   "cell_type": "code",
   "execution_count": null,
   "metadata": {},
   "outputs": [],
   "source": []
  }
 ],
 "metadata": {
  "kernelspec": {
   "display_name": "Python 3",
   "language": "python",
   "name": "python3"
  },
  "language_info": {
   "codemirror_mode": {
    "name": "ipython",
    "version": 3
   },
   "file_extension": ".py",
   "mimetype": "text/x-python",
   "name": "python",
   "nbconvert_exporter": "python",
   "pygments_lexer": "ipython3",
   "version": "3.6.8"
  }
 },
 "nbformat": 4,
 "nbformat_minor": 2
}
